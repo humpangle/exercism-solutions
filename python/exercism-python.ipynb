{
 "cells": [
  {
   "cell_type": "code",
   "execution_count": 2,
   "metadata": {
    "collapsed": true
   },
   "outputs": [],
   "source": [
    "import sys"
   ]
  },
  {
   "cell_type": "code",
   "execution_count": 3,
   "metadata": {
    "collapsed": true
   },
   "outputs": [],
   "source": [
    "fred = 1; sys.modules['__main__'].fred = 2"
   ]
  },
  {
   "cell_type": "code",
   "execution_count": 4,
   "metadata": {},
   "outputs": [
    {
     "name": "stdout",
     "output_type": "stream",
     "text": [
      "2\n"
     ]
    }
   ],
   "source": [
    "print(fred)"
   ]
  },
  {
   "cell_type": "code",
   "execution_count": 5,
   "metadata": {
    "collapsed": true
   },
   "outputs": [],
   "source": [
    "from functools import reduce\n",
    "\n",
    "\n",
    "def count(acc, val):\n",
    "    acc[val] = acc.get(val, 0) + 1\n",
    "    return acc\n",
    "\n",
    "def is_isogram(string):\n",
    "    string = string.replace(' ', '').replace('-', '').lower()\n",
    "    counts_dict = reduce(count, string, {})\n",
    "    return max(counts_dict.values()) == 1"
   ]
  },
  {
   "cell_type": "code",
   "execution_count": 14,
   "metadata": {
    "collapsed": true
   },
   "outputs": [],
   "source": [
    "from string import ascii_lowercase"
   ]
  },
  {
   "cell_type": "code",
   "execution_count": 20,
   "metadata": {
    "collapsed": true
   },
   "outputs": [],
   "source": [
    "def is_pangram(string):\n",
    "    chars = [x.lower() for x in string if x.isalpha()]\n",
    "    return len(set(chars)) == len( ascii_lowercase )"
   ]
  },
  {
   "cell_type": "code",
   "execution_count": 35,
   "metadata": {},
   "outputs": [
    {
     "data": {
      "text/plain": [
       "['First', \"don't\", 'laugh', 'Then', \"don't\", 'cry']"
      ]
     },
     "execution_count": 35,
     "metadata": {},
     "output_type": "execute_result"
    }
   ],
   "source": [
    "import re\n",
    "\n",
    "p = re.compile(r\"[a-z']+\", re.IGNORECASE)\n",
    "p.findall(\"First: don't laugh. Then: don't cry.\")"
   ]
  },
  {
   "cell_type": "code",
   "execution_count": 38,
   "metadata": {},
   "outputs": [
    {
     "data": {
      "text/plain": [
       "\"'l'\""
      ]
     },
     "execution_count": 38,
     "metadata": {},
     "output_type": "execute_result"
    }
   ],
   "source": [
    "\"x'l'x\".strip(\"x\")"
   ]
  },
  {
   "cell_type": "code",
   "execution_count": 48,
   "metadata": {},
   "outputs": [
    {
     "data": {
      "text/plain": [
       "datetime.datetime(2043, 1, 1, 1, 46, 40)"
      ]
     },
     "execution_count": 48,
     "metadata": {},
     "output_type": "execute_result"
    }
   ],
   "source": [
    "from datetime import datetime, timedelta\n",
    "\n",
    "d = datetime(2011, 4, 25)\n",
    "\n",
    "d + timedelta(seconds=1000000000) "
   ]
  },
  {
   "cell_type": "code",
   "execution_count": 60,
   "metadata": {},
   "outputs": [
    {
     "name": "stdout",
     "output_type": "stream",
     "text": [
      "<_sre.SRE_Match object; span=(0, 1), match=' '>\n"
     ]
    }
   ],
   "source": [
    "p = re.compile( r'\\W+' )\n",
    "x = p.match(' ')\n",
    "print(x)"
   ]
  },
  {
   "cell_type": "code",
   "execution_count": 143,
   "metadata": {
    "collapsed": true
   },
   "outputs": [],
   "source": [
    "def encode(string):\n",
    "\n",
    "    def encode_(acc_prev_letter_count, next_letter):\n",
    "        #print((acc_prev_letter_count, next_letter))\n",
    "        acc, prev_letter, count = acc_prev_letter_count\n",
    "       \n",
    "        if not acc:\n",
    "            if prev_letter == next_letter:\n",
    "                return ('2%s' % prev_letter, next_letter, 2)\n",
    "            return ('%s%s' % (prev_letter, next_letter), next_letter, 1)\n",
    "\n",
    "        if prev_letter == next_letter:\n",
    "            acc_trim_len = -1 if count == 1 else (-len(str(count)) - 1)\n",
    "            next_count = count + 1\n",
    "\n",
    "            return (\n",
    "                '%s%s%s' % (acc[: acc_trim_len], next_count, next_letter),\n",
    "                next_letter,\n",
    "                next_count\n",
    "            )\n",
    "\n",
    "        return ('%s%s' % (acc, next_letter), next_letter, 1)\n",
    "\n",
    "    if not string or len(string) == 1:\n",
    "        return string\n",
    "    \n",
    "    return reduce(encode_, string[1:], ('', string[0], 1))[0]"
   ]
  },
  {
   "cell_type": "code",
   "execution_count": 106,
   "metadata": {},
   "outputs": [
    {
     "name": "stdout",
     "output_type": "stream",
     "text": [
      "(('', 'A', 1), 'A')\n",
      "(('2A', 'A', 2), 'B')\n",
      "(('2AB', 'B', 1), 'B')\n",
      "(('2A2B', 'B', 2), 'B')\n",
      "(('2A3B', 'B', 3), 'C')\n",
      "(('2A3BC', 'C', 1), 'C')\n",
      "(('2A3B2C', 'C', 2), 'C')\n",
      "(('2A3B3C', 'C', 3), 'C')\n"
     ]
    },
    {
     "data": {
      "text/plain": [
       "'2A3B4C'"
      ]
     },
     "execution_count": 106,
     "metadata": {},
     "output_type": "execute_result"
    }
   ],
   "source": [
    "encode('AABBBCCCC')"
   ]
  },
  {
   "cell_type": "code",
   "execution_count": 156,
   "metadata": {
    "collapsed": true
   },
   "outputs": [],
   "source": [
    "def decode(string):\n",
    "    \n",
    "    def decode_(acc_prev_letter, next_letter):\n",
    "        #print((acc_prev_letter, next_letter))\n",
    "        acc, prev_letter = acc_prev_letter\n",
    "        \n",
    "        if prev_letter.isdigit():\n",
    "            return ('%s%s' % (acc, next_letter * int(prev_letter)), '')\n",
    "        if next_letter.isdigit():\n",
    "            return ('%s%s' % (acc, prev_letter), next_letter)\n",
    "            \n",
    "        return ('%s%s%s' % (acc, prev_letter, next_letter), '')\n",
    "    \n",
    "    if not string or len(string) == 1:\n",
    "        return string\n",
    "    \n",
    "    p = re.compile(r'\\d+|\\w|\\s')\n",
    "    string_ = p.findall(string)\n",
    "    return reduce(decode_, string_[1:], ('', string_[0]))[0]"
   ]
  },
  {
   "cell_type": "code",
   "execution_count": 144,
   "metadata": {},
   "outputs": [
    {
     "data": {
      "text/plain": [
       "'3z 2Z2 zZ'"
      ]
     },
     "execution_count": 144,
     "metadata": {},
     "output_type": "execute_result"
    }
   ],
   "source": [
    "encode('zzz ZZ  zZ')"
   ]
  },
  {
   "cell_type": "code",
   "execution_count": 173,
   "metadata": {},
   "outputs": [
    {
     "data": {
      "text/plain": [
       "{1: 2}"
      ]
     },
     "execution_count": 173,
     "metadata": {},
     "output_type": "execute_result"
    }
   ],
   "source": [
    "dict([(1, 2)])"
   ]
  },
  {
   "cell_type": "code",
   "execution_count": 199,
   "metadata": {
    "collapsed": true
   },
   "outputs": [],
   "source": [
    "from datetime import date\n",
    "import calendar\n",
    "\n",
    "DAY_NAMES_INDICES = dict([(calendar.day_name[x], x) for x in range(7)])\n",
    "\n",
    "def meetup_day(year, month, day_of_the_week, which):\n",
    "    cal = calendar.monthcalendar(year, month)\n",
    "    dates_ = []\n",
    "\n",
    "    for week in cal:\n",
    "        day_index = DAY_NAMES_INDICES[day_of_the_week]\n",
    "        date_ = week[day_index]\n",
    "        if date_ > 0:\n",
    "            dates_.append(date_)\n",
    "\n",
    "    for index, val in enumerate(dates_):\n",
    "        if which == 'teenth' and val > 12:\n",
    "            return date(year, month, val)\n",
    "        elif which != 'teenth' and index == int(which[0]) - 1:\n",
    "            return date(year, month, val)\n",
    "    raise Exception()"
   ]
  },
  {
   "cell_type": "code",
   "execution_count": 215,
   "metadata": {},
   "outputs": [
    {
     "name": "stdout",
     "output_type": "stream",
     "text": [
      "[[0, 0, 0, 0, 1, 2, 3], [4, 5, 6, 7, 8, 9, 10], [11, 12, 13, 14, 15, 16, 17], [18, 19, 20, 21, 22, 23, 24], [25, 26, 27, 28, 0, 0, 0]]\n"
     ]
    }
   ],
   "source": [
    "year, month = 2013, 2\n",
    "calendar.monthrange(year, month)\n",
    "from datetime import date\n",
    "\n",
    "date(year, month, 13).weekday()\n",
    "cal = calendar.monthcalendar(year, month)\n",
    "print(cal)"
   ]
  },
  {
   "cell_type": "code",
   "execution_count": 216,
   "metadata": {},
   "outputs": [
    {
     "data": {
      "text/plain": [
       "'hello.jpg'"
      ]
     },
     "execution_count": 216,
     "metadata": {},
     "output_type": "execute_result"
    }
   ],
   "source": [
    "from string import digits\n",
    "\n",
    "table = str.maketrans(dict.fromkeys(digits))\n",
    "\n",
    "'123hello.jpg'.translate(table)"
   ]
  },
  {
   "cell_type": "code",
   "execution_count": 235,
   "metadata": {},
   "outputs": [
    {
     "name": "stdout",
     "output_type": "stream",
     "text": [
      "T 6\n"
     ]
    },
    {
     "data": {
      "text/plain": [
       "'Gur dhvpx oebja sbk whzcf bire gur ynml qbt.'"
      ]
     },
     "execution_count": 235,
     "metadata": {},
     "output_type": "execute_result"
    }
   ],
   "source": [
    "from string import ascii_uppercase, ascii_lowercase\n",
    "\n",
    "map_lowercase = dict([(x, i) for i, x in enumerate(ascii_lowercase)])\n",
    "map_uppercase = dict([(x, i) for i, x in enumerate(ascii_uppercase)])\n",
    "key = 13\n",
    "\n",
    "# print(map_uppercase)\n",
    "\n",
    "acc = ''\n",
    "for l in 'The quick brown fox jumps over the lazy dog.':\n",
    "    t = l\n",
    "    if l in map_lowercase:\n",
    "        t =ascii_lowercase[(map_lowercase.get(l) + key) % 26]\n",
    "    elif l in map_uppercase:\n",
    "        print(l, (map_uppercase.get(l) + key) % 26)\n",
    "        t = ascii_uppercase[(map_uppercase.get(l) + key) % 26]\n",
    "    acc += t\n",
    "acc"
   ]
  },
  {
   "cell_type": "code",
   "execution_count": 22,
   "metadata": {},
   "outputs": [],
   "source": [
    "def square_of_sum(num):\n",
    "    return sum((x + 1 for x in range(num))) ** 2\n",
    "\n",
    "\n",
    "def sum_of_squares(num):\n",
    "    return sum(((x + 1) ** 2 for x in range(num)))\n",
    "\n",
    "\n",
    "def difference(num):\n",
    "    return square_of_sum(num) - sum_of_squares(num)"
   ]
  },
  {
   "cell_type": "code",
   "execution_count": 11,
   "metadata": {},
   "outputs": [
    {
     "name": "stdout",
     "output_type": "stream",
     "text": [
      "1 2 3 a b c "
     ]
    }
   ],
   "source": [
    "from itertools import *\n",
    "\n",
    "def make_chainable_iterables(): yield [1, 2, 3]; yield ['a', 'b', 'c']\n",
    "    \n",
    "for i in chain.from_iterable(make_chainable_iterables()):\n",
    "    print(i, end=' ')"
   ]
  },
  {
   "cell_type": "code",
   "execution_count": 14,
   "metadata": {},
   "outputs": [
    {
     "name": "stdout",
     "output_type": "stream",
     "text": [
      "[(0, 0), (1, 1), (2, 890)]\n"
     ]
    }
   ],
   "source": [
    "r1, r2 = range(3), range(2)\n",
    "\n",
    "print(list(zip_longest(r1, r2, fillvalue=890)))"
   ]
  },
  {
   "cell_type": "code",
   "execution_count": 47,
   "metadata": {},
   "outputs": [
    {
     "name": "stdout",
     "output_type": "stream",
     "text": [
      "[1, 2, 3, 4, 5]\n",
      "[1, 2, 3, 4, 5]\n",
      "[1, 2, 3, 4, 5]\n"
     ]
    }
   ],
   "source": [
    "r = islice(count(1), 5)\n",
    "for x in tee(r, 3):\n",
    "    print(list(x))"
   ]
  },
  {
   "cell_type": "code",
   "execution_count": 49,
   "metadata": {},
   "outputs": [
    {
     "name": "stdout",
     "output_type": "stream",
     "text": [
      "(1, 5)\n",
      "(2, 6)\n",
      "(3, 7)\n",
      "(4, 8)\n",
      "(None, 9)\n"
     ]
    }
   ],
   "source": [
    "from itertools import *\n",
    "l1, l2 = islice(count(1), 4), islice(count(5), 5)\n",
    "for i in zip_longest(l1, l2):\n",
    "    print(i)"
   ]
  },
  {
   "cell_type": "code",
   "execution_count": 56,
   "metadata": {},
   "outputs": [
    {
     "name": "stdout",
     "output_type": "stream",
     "text": [
      "1/3\n",
      "2/3\n",
      "1\n",
      "4/3\n"
     ]
    }
   ],
   "source": [
    "from fractions import Fraction\n",
    "start = Fraction(1,3)\n",
    "stop = Fraction(1,3)\n",
    "for i in islice(count(start, stop), 4):\n",
    "    print('{}'.format(i))"
   ]
  },
  {
   "cell_type": "code",
   "execution_count": 59,
   "metadata": {},
   "outputs": [
    {
     "data": {
      "text/plain": [
       "['a', 'b', 'c', 'A', 'B', 'C']"
      ]
     },
     "execution_count": 59,
     "metadata": {},
     "output_type": "execute_result"
    }
   ],
   "source": [
    "list(chain('abc', 'abc'.upper() ))"
   ]
  },
  {
   "cell_type": "code",
   "execution_count": 62,
   "metadata": {},
   "outputs": [
    {
     "data": {
      "text/plain": [
       "Counter({'J': 1,\n",
       "         'a': 3,\n",
       "         'b': 1,\n",
       "         'd': 3,\n",
       "         'e': 3,\n",
       "         'h': 1,\n",
       "         'j': 1,\n",
       "         'n': 3,\n",
       "         's': 1,\n",
       "         'u': 1})"
      ]
     },
     "execution_count": 62,
     "metadata": {},
     "output_type": "execute_result"
    }
   ],
   "source": [
    "from collections import Counter\n",
    "\n",
    "Counter('aaabsduhenndndejeJ')"
   ]
  },
  {
   "cell_type": "code",
   "execution_count": 64,
   "metadata": {},
   "outputs": [
    {
     "data": {
      "text/plain": [
       "True"
      ]
     },
     "execution_count": 64,
     "metadata": {},
     "output_type": "execute_result"
    }
   ],
   "source": [
    "sorted('xa233') == sorted(['2', '3', '3', 'a', 'x'])"
   ]
  },
  {
   "cell_type": "code",
   "execution_count": 68,
   "metadata": {},
   "outputs": [],
   "source": [
    "?combinations"
   ]
  },
  {
   "cell_type": "code",
   "execution_count": 71,
   "metadata": {},
   "outputs": [
    {
     "data": {
      "text/plain": [
       "20"
      ]
     },
     "execution_count": 71,
     "metadata": {},
     "output_type": "execute_result"
    }
   ],
   "source": [
    "max({20: 3, 4:5})"
   ]
  },
  {
   "cell_type": "code",
   "execution_count": 76,
   "metadata": {},
   "outputs": [
    {
     "name": "stdout",
     "output_type": "stream",
     "text": [
      "[1, 2, 4, 8, 16, 32, 64, 128, 256]\n",
      "[1, 3, 7, 15, 31, 63, 127, 255, 511]\n"
     ]
    }
   ],
   "source": [
    "print(list(2**x for x in range(9)))\n",
    "print(list(accumulate(2**x for x in range(9))))"
   ]
  },
  {
   "cell_type": "code",
   "execution_count": 94,
   "metadata": {},
   "outputs": [
    {
     "data": {
      "text/plain": [
       "[256, 128, 64, 32, 16, 8, 4, 2, 1]"
      ]
     },
     "execution_count": 94,
     "metadata": {},
     "output_type": "execute_result"
    }
   ],
   "source": [
    "from math import floor, log\n",
    "\n",
    "x = list(2**x for x in range(floor(log(509) / log(2)) +1))\n",
    "x [::-1]"
   ]
  },
  {
   "cell_type": "code",
   "execution_count": 97,
   "metadata": {},
   "outputs": [
    {
     "name": "stdout",
     "output_type": "stream",
     "text": [
      "10\n",
      "111111101\n"
     ]
    }
   ],
   "source": [
    "print(\"{0:b}\".format(2))\n",
    "print(\"{0:b}\".format(509))"
   ]
  },
  {
   "cell_type": "code",
   "execution_count": 98,
   "metadata": {},
   "outputs": [
    {
     "data": {
      "text/plain": [
       "False"
      ]
     },
     "execution_count": 98,
     "metadata": {},
     "output_type": "execute_result"
    }
   ],
   "source": [
    "[1, 2] == [2, 1]"
   ]
  },
  {
   "cell_type": "code",
   "execution_count": 102,
   "metadata": {},
   "outputs": [
    {
     "name": "stdout",
     "output_type": "stream",
     "text": [
      "x 1\n"
     ]
    }
   ],
   "source": [
    "a, b = 'x1'\n",
    "print(a,b)"
   ]
  },
  {
   "cell_type": "code",
   "execution_count": 105,
   "metadata": {},
   "outputs": [
    {
     "name": "stdout",
     "output_type": "stream",
     "text": [
      "2222222\n"
     ]
    }
   ],
   "source": [
    "class A:\n",
    "    def a(self):\n",
    "        self.b()\n",
    "    @staticmethod\n",
    "    def b():\n",
    "        print(2222222)\n",
    "        \n",
    "a = A()\n",
    "x = a.a\n",
    "x()"
   ]
  },
  {
   "cell_type": "code",
   "execution_count": 109,
   "metadata": {},
   "outputs": [
    {
     "name": "stdout",
     "output_type": "stream",
     "text": [
      "[1, 2, 3, 4]\n"
     ]
    }
   ],
   "source": [
    "x = [1, 2]\n",
    "x.extend([3, 4])\n",
    "print(x)"
   ]
  },
  {
   "cell_type": "code",
   "execution_count": 111,
   "metadata": {},
   "outputs": [
    {
     "data": {
      "text/plain": [
       "{2, 3}"
      ]
     },
     "execution_count": 111,
     "metadata": {},
     "output_type": "execute_result"
    }
   ],
   "source": [
    "{1, 2 , 3} - {1}"
   ]
  },
  {
   "cell_type": "code",
   "execution_count": 113,
   "metadata": {},
   "outputs": [
    {
     "data": {
      "text/plain": [
       "{0: 1, 1: 2, 2: 3}"
      ]
     },
     "execution_count": 113,
     "metadata": {},
     "output_type": "execute_result"
    }
   ],
   "source": [
    "{x: x+1 for x in range(3)}"
   ]
  },
  {
   "cell_type": "code",
   "execution_count": 114,
   "metadata": {},
   "outputs": [
    {
     "data": {
      "text/plain": [
       "{'a': 'z',\n",
       " 'b': 'y',\n",
       " 'c': 'x',\n",
       " 'd': 'w',\n",
       " 'e': 'v',\n",
       " 'f': 'u',\n",
       " 'g': 't',\n",
       " 'h': 's',\n",
       " 'i': 'r',\n",
       " 'j': 'q',\n",
       " 'k': 'p',\n",
       " 'l': 'o',\n",
       " 'm': 'n',\n",
       " 'n': 'm',\n",
       " 'o': 'l',\n",
       " 'p': 'k',\n",
       " 'q': 'j',\n",
       " 'r': 'i',\n",
       " 's': 'h',\n",
       " 't': 'g',\n",
       " 'u': 'f',\n",
       " 'v': 'e',\n",
       " 'w': 'd',\n",
       " 'x': 'c',\n",
       " 'y': 'b',\n",
       " 'z': 'a'}"
      ]
     },
     "execution_count": 114,
     "metadata": {},
     "output_type": "execute_result"
    }
   ],
   "source": [
    "dict(zip(\n",
    "        'abcdefghijklmnopqrstuvwxyz',\n",
    "        'zyxwvutsrqponmlkjihgfedcba'\n",
    "    ))"
   ]
  },
  {
   "cell_type": "code",
   "execution_count": 118,
   "metadata": {},
   "outputs": [
    {
     "data": {
      "text/plain": [
       "True"
      ]
     },
     "execution_count": 118,
     "metadata": {},
     "output_type": "execute_result"
    }
   ],
   "source": [
    "x = 'a'\n",
    "\n",
    "x.isalnum()"
   ]
  },
  {
   "cell_type": "code",
   "execution_count": 119,
   "metadata": {},
   "outputs": [
    {
     "data": {
      "text/plain": [
       "19"
      ]
     },
     "execution_count": 119,
     "metadata": {},
     "output_type": "execute_result"
    }
   ],
   "source": [
    "Plain = 'abcdefghijklmnopqrstuvwxyz1234567890'\n",
    "Plain.find('t')"
   ]
  },
  {
   "cell_type": "code",
   "execution_count": 120,
   "metadata": {},
   "outputs": [
    {
     "data": {
      "text/plain": [
       "1"
      ]
     },
     "execution_count": 120,
     "metadata": {},
     "output_type": "execute_result"
    }
   ],
   "source": [
    "int(3/2)"
   ]
  },
  {
   "cell_type": "code",
   "execution_count": 123,
   "metadata": {},
   "outputs": [
    {
     "data": {
      "text/plain": [
       "[3, 4, 5, 6, 7]"
      ]
     },
     "execution_count": 123,
     "metadata": {},
     "output_type": "execute_result"
    }
   ],
   "source": [
    "list(range(3,8))"
   ]
  },
  {
   "cell_type": "code",
   "execution_count": 130,
   "metadata": {},
   "outputs": [],
   "source": [
    "def slices(series, length):\n",
    "    len_series = len(series)\n",
    "    if len_series < length or length <= 0:\n",
    "        raise ValueError()\n",
    "    return [[int(x) for x in series[end-length :end]] for end in range(length, len_series+1)]"
   ]
  },
  {
   "cell_type": "code",
   "execution_count": 135,
   "metadata": {},
   "outputs": [
    {
     "data": {
      "text/plain": [
       "[[0], [1], [2], [3], [4]]"
      ]
     },
     "execution_count": 135,
     "metadata": {},
     "output_type": "execute_result"
    }
   ],
   "source": [
    "slices(\"01234\", 1)"
   ]
  },
  {
   "cell_type": "code",
   "execution_count": 147,
   "metadata": {},
   "outputs": [
    {
     "data": {
      "text/plain": [
       "78"
      ]
     },
     "execution_count": 147,
     "metadata": {},
     "output_type": "execute_result"
    }
   ],
   "source": [
    "sum(set(chain(  *(range(3, 20, 3), range(5, 20, 5))  )))"
   ]
  },
  {
   "cell_type": "code",
   "execution_count": null,
   "metadata": {},
   "outputs": [],
   "source": []
  }
 ],
 "metadata": {
  "kernelspec": {
   "display_name": "Python 3",
   "language": "python",
   "name": "python3"
  },
  "language_info": {
   "codemirror_mode": {
    "name": "ipython",
    "version": 3
   },
   "file_extension": ".py",
   "mimetype": "text/x-python",
   "name": "python",
   "nbconvert_exporter": "python",
   "pygments_lexer": "ipython3",
   "version": "3.6.3"
  }
 },
 "nbformat": 4,
 "nbformat_minor": 2
}
